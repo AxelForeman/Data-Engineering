{
 "cells": [
  {
   "cell_type": "code",
   "execution_count": null,
   "id": "267eaea3-43c1-468c-bd3e-c8eeac960381",
   "metadata": {},
   "outputs": [],
   "source": [
    "import pandas as pd\n",
    "from pyspark.sql import SparkSession, Row\n",
    "from pyspark.sql.functions import avg\n",
    "\n",
    "\n",
    "spark = SparkSession.builder.appName(\"MovieReviewsIntegration\").getOrCreate()\n",
    "\n",
    "\n",
    "datos_peliculas = pd.DataFrame({\n",
    "    \"ID\": [1, 2, 3, 4],\n",
    "    \"Título\": [\"Inception\", \"Parasite\", \"Interstellar\", \"The Godfather\"],\n",
    "    \"Año\": [2010, 2019, 2014, 1972]\n",
    "})\n",
    "\n",
    "\n",
    "criticas = spark.createDataFrame([\n",
    "    Row(PeliculaID=1, Critico=\"Critico1\", Puntuacion=4.8),\n",
    "    Row(PeliculaID=2, Critico=\"Critico2\", Puntuacion=4.9),\n",
    "    Row(PeliculaID=3, Critico=\"Critico3\", Puntuacion=4.5),\n",
    "    Row(PeliculaID=4, Critico=\"Critico1\", Puntuacion=5.0)\n",
    "])\n",
    "\n",
    "\n",
    "datos_peliculas_spark = spark.createDataFrame(datos_peliculas)\n",
    "\n",
    "resultado = datos_peliculas_spark.join(criticas, datos_peliculas_spark.ID == criticas.PeliculaID) \\\n",
    "                                 .groupBy(\"Título\", \"Año\") \\\n",
    "                                 .agg(avg(\"Puntuacion\").alias(\"Puntuacion_Promedio\"))\n",
    "\n",
    "\n",
    "resultado.show()\n",
    "\n",
    "\n",
    "spark.stop()\n"
   ]
  }
 ],
 "metadata": {
  "kernelspec": {
   "display_name": "Python 3 (ipykernel)",
   "language": "python",
   "name": "python3"
  },
  "language_info": {
   "codemirror_mode": {
    "name": "ipython",
    "version": 3
   },
   "file_extension": ".py",
   "mimetype": "text/x-python",
   "name": "python",
   "nbconvert_exporter": "python",
   "pygments_lexer": "ipython3",
   "version": "3.11.7"
  }
 },
 "nbformat": 4,
 "nbformat_minor": 5
}
