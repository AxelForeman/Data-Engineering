{
 "cells": [
  {
   "cell_type": "code",
   "execution_count": null,
   "id": "267eaea3-43c1-468c-bd3e-c8eeac960381",
   "metadata": {},
   "outputs": [],
   "source": [
    "from pyspark.sql import SparkSession\n",
    "from pyspark.sql.functions import col, avg, count, desc\n",
    "\n",
    "spark = SparkSession.builder \\\n",
    "    .appName(\"ProcesamientoDatosVuelos\") \\\n",
    "    .getOrCreate()\n",
    "\n",
    "file_path = \"ruta/a/tu/archivo/On_Time_Reporting_Carrier_On_Time_Performance_2015.csv\"\n",
    "vuelos_df = spark.read.csv(file_path, header=True, inferSchema=True)\n",
    "\n",
    "vuelos_df.show(5)\n",
    "\n",
    "aeropuerto_especifico = \"ATL\"\n",
    "retraso_promedio_df = vuelos_df.filter(col('Origin') == aeropuerto_especifico) \\\n",
    "    .agg(avg('ArrivalDelay').alias('RetrasoPromedio'))\n",
    "\n",
    "retraso_promedio_df.show()\n",
    "\n",
    "rutas_populares_df = vuelos_df.groupBy('Origin', 'Dest') \\\n",
    "    .agg(count('*').alias('NumeroDeVuelos')) \\\n",
    "    .orderBy(desc('NumeroDeVuelos')) \\\n",
    "    .limit(10)\n",
    "\n",
    "rutas_populares_df.show()\n",
    "\n",
    "spark.stop()\n"
   ]
  }
 ],
 "metadata": {
  "kernelspec": {
   "display_name": "Python 3 (ipykernel)",
   "language": "python",
   "name": "python3"
  },
  "language_info": {
   "codemirror_mode": {
    "name": "ipython",
    "version": 3
   },
   "file_extension": ".py",
   "mimetype": "text/x-python",
   "name": "python",
   "nbconvert_exporter": "python",
   "pygments_lexer": "ipython3",
   "version": "3.11.7"
  }
 },
 "nbformat": 4,
 "nbformat_minor": 5
}
