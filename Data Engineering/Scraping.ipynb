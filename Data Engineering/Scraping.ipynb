{
 "cells": [
  {
   "cell_type": "code",
   "execution_count": 1,
   "id": "e518e94d-cf2e-4375-99ec-f9b001c4b438",
   "metadata": {},
   "outputs": [
    {
     "name": "stdout",
     "output_type": "stream",
     "text": [
      "El precio actual del Bitcoin es: $86,865.33\n"
     ]
    }
   ],
   "source": [
    "import requests\n",
    "from bs4 import BeautifulSoup\n",
    "url = 'https://coinmarketcap.com/currencies/bitcoin/'\n",
    "response = requests.get(url)\n",
    "if response.status_code == 200:\n",
    "    soup = BeautifulSoup(response.text, 'html.parser')\n",
    "    \n",
    "    price_span = soup.find('span', class_='sc-65e7f566-0 WXGwg base-text')\n",
    "    \n",
    "    if price_span:\n",
    "        bitcoin_price = price_span.text.strip() \n",
    "    \n",
    "        print(f'El precio actual del Bitcoin es: {bitcoin_price}')\n",
    "    else:\n",
    "        print('No se pudo encontrar el precio del Bitcoin.')\n",
    "else:\n",
    "    print(f'Error al hacer la solicitud. Código de respuesta: {response.status_code}')\n"
   ]
  },
  {
   "cell_type": "code",
   "execution_count": null,
   "id": "05424907-5ea0-455f-8096-57bd7e83331a",
   "metadata": {},
   "outputs": [],
   "source": []
  }
 ],
 "metadata": {
  "kernelspec": {
   "display_name": "Python 3 (ipykernel)",
   "language": "python",
   "name": "python3"
  },
  "language_info": {
   "codemirror_mode": {
    "name": "ipython",
    "version": 3
   },
   "file_extension": ".py",
   "mimetype": "text/x-python",
   "name": "python",
   "nbconvert_exporter": "python",
   "pygments_lexer": "ipython3",
   "version": "3.11.7"
  }
 },
 "nbformat": 4,
 "nbformat_minor": 5
}
